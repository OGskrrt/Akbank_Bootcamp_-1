{
 "cells": [
  {
   "cell_type": "markdown",
   "source": [
    "### **Introduction to Machine Learning**\n",
    "\n",
    "#### **Machine Learning (ML)** is a field of artificial intelligence (AI) that focuses on developing algorithms and models capable of learning patterns and making predictions or decisions based on data without being explicitly programmed. \n",
    "\n",
    "In essence, ML enables computers to learn from data and improve their performance over time. Instead of relying on explicit instructions, ML algorithms learn from examples and experience, allowing them to adapt to new data and situations.\n",
    "\n",
    "There are three main types of machine learning:\n",
    "\n",
    "### **1. Supervised Learning** \n",
    "In supervised learning, the algorithm is trained on labeled data, where each example is paired with the correct answer or output. The algorithm learns from these labeled examples to make predictions or classifications on unseen data.\n",
    "\n",
    "### **2. Unsupervised Learning** \n",
    "Unsupervised learning involves training algorithms on unlabeled data, where the algorithm's goal is to discover hidden patterns or structures within the data. Without predefined output labels, the algorithm explores the data to find meaningful insights.\n",
    "\n",
    "### **3. Reinforcement Learning** \n",
    "Reinforcement learning is a type of learning where an agent learns to make decisions by interacting with an environment. The agent receives feedback in the form of rewards or penalties based on its actions, allowing it to learn the optimal behavior over time.\n",
    "\n",
    "Machine learning algorithms are diverse and tailored to different tasks and data types. Some common machine learning algorithms include linear regression, logistic regression, decision trees, random forests, support vector machines (SVM), and neural networks.\n",
    "\n",
    "Overall, machine learning plays a crucial role in various domains, including healthcare, finance, marketing, and more. By leveraging the power of data and algorithms, machine learning enables intelligent systems to automate tasks, extract valuable insights, and make informed decisions.\n"
   ],
   "metadata": {
    "collapsed": false
   },
   "id": "cbcd20bcb4b196b3"
  },
  {
   "cell_type": "markdown",
   "source": [
    "# Machine Learning Model: An Overview\n",
    "\n",
    "A machine learning model is a mathematical representation or structure learned by a machine learning algorithm to perform a specific task on data. It is typically used to extract features from data, identify relationships, and ultimately produce a specific outcome.\n",
    "\n",
    "For example, a classification model assigns a data point to a specific class, while a regression model makes a value prediction. The model learns from examples in the training dataset and can then be applied to new data.\n",
    "\n",
    "A machine learning model is often a mathematical formulation or structure that represents how an algorithm learns to perform a particular task. This structure is trained and adjusted based on performance metrics, typically derived from the training data, to evaluate how well the model performs in a specific task.\n"
   ],
   "metadata": {
    "collapsed": false
   },
   "id": "1e5b20a7cb665a6d"
  },
  {
   "cell_type": "markdown",
   "source": [
    "# Model selection based on diabetes data\n",
    "\n",
    "## About Dataset\n",
    "This dataset is originally from the National Institute of Diabetes and Digestive and Kidney\n",
    "Diseases. The objective of the dataset is to diagnostically predict whether a patient has diabetes,\n",
    "based on certain diagnostic measurements included in the dataset. Several constraints were placed\n",
    "on the selection of these instances from a larger database. In particular, all patients here are females\n",
    "at least 21 years old of Pima Indian heritage.2\n",
    "From the data set in the (.csv) File We can find several variables, some of them are independent\n",
    "(several medical predictor variables) and only one target dependent variable (Outcome).\n",
    "Dataset link: https://www.kaggle.com/datasets/akshaydattatraykhare/diabetes-dataset"
   ],
   "metadata": {
    "collapsed": false
   },
   "id": "3e93025eece78e94"
  },
  {
   "cell_type": "markdown",
   "source": [
    "#Lets start.\n",
    "First, we need to import some libraries."
   ],
   "metadata": {
    "collapsed": false
   },
   "id": "66281f87f9391e6e"
  },
  {
   "cell_type": "code",
   "outputs": [],
   "source": [
    "import numpy as np  # NumPy for numerical computing\n",
    "import pandas as pd  # Pandas for data manipulation and analysis\n",
    "\n",
    "# Data visualization libraries\n",
    "import seaborn as sns  \n",
    "import matplotlib.pyplot as plt  \n",
    "\n",
    "# Machine Learning Classifiers/Models\n",
    "from catboost import CatBoostClassifier  # CatBoost Classifier\n",
    "from lightgbm import LGBMClassifier  # LightGBM Classifier\n",
    "from sklearn.ensemble import GradientBoostingClassifier, RandomForestClassifier  # Gradient Boosting and Random Forest Classifiers\n",
    "from sklearn.tree import DecisionTreeClassifier  # Decision Tree Classifier\n",
    "from xgboost import XGBClassifier  # XGBoost Classifier\n",
    "from sklearn.linear_model import LogisticRegression  # Logistic Regression Classifier\n",
    "\n",
    "# Data preprocessing libraries\n",
    "from sklearn.preprocessing import RobustScaler  # RobustScaler for feature scaling\n",
    "from sklearn.preprocessing import LabelEncoder  # LabelEncoder for encoding categorical variables\n",
    "\n",
    "# Evaluation metrics\n",
    "from sklearn.metrics import accuracy_score, roc_auc_score, confusion_matrix, classification_report, roc_curve  # Various evaluation metrics\n",
    "from sklearn.model_selection import train_test_split, cross_validate, GridSearchCV  # Train/test split, cross-validation, grid search\n",
    "\n",
    "import warnings\n",
    "warnings.simplefilter(action='ignore', category=Warning)"
   ],
   "metadata": {
    "collapsed": false,
    "ExecuteTime": {
     "end_time": "2024-05-06T12:56:39.419003Z",
     "start_time": "2024-05-06T12:56:39.414728Z"
    }
   },
   "id": "852bc921b7386300",
   "execution_count": 470
  },
  {
   "cell_type": "markdown",
   "source": [
    "\n",
    "This chunk of code is needed for pandas settings."
   ],
   "metadata": {
    "collapsed": false
   },
   "id": "b9e39e8853394272"
  },
  {
   "cell_type": "code",
   "outputs": [],
   "source": [
    "pd.set_option('display.max_columns', None)\n",
    "pd.set_option('display.float_format', lambda x: '%.3f' % x)\n",
    "pd.set_option('display.width', 500)"
   ],
   "metadata": {
    "collapsed": false,
    "ExecuteTime": {
     "end_time": "2024-05-06T12:56:39.627257Z",
     "start_time": "2024-05-06T12:56:39.623806Z"
    }
   },
   "id": "2ab3a3f0c3d76388",
   "execution_count": 471
  },
  {
   "cell_type": "markdown",
   "source": [],
   "metadata": {
    "collapsed": false
   },
   "id": "eb91431e904c0fcc"
  },
  {
   "cell_type": "markdown",
   "source": [
    "# Exploratory Data Analysis (EDA) Section\n",
    "Exploratory Data Analysis (EDA) is a crucial step in data analysis where datasets are visually and statistically analyzed to uncover patterns, trends, and relationships within the data. Through techniques like data visualization and summary statistics, EDA aims to understand the structure of the data, identify potential outliers or missing values, and gain insights that inform further analysis or modeling decisions.\n",
    "\n",
    "Let's continue on EDA section with reading .csv file."
   ],
   "metadata": {
    "collapsed": false
   },
   "id": "aad4366f316a21eb"
  },
  {
   "cell_type": "code",
   "outputs": [],
   "source": [
    "df = pd.read_csv(\"diabetes.csv\")"
   ],
   "metadata": {
    "collapsed": false,
    "ExecuteTime": {
     "end_time": "2024-05-06T12:56:39.635857Z",
     "start_time": "2024-05-06T12:56:39.631758Z"
    }
   },
   "id": "b571390fc2a990e2",
   "execution_count": 472
  },
  {
   "cell_type": "markdown",
   "source": [
    "To have some information on csv file, we are going to use those methods."
   ],
   "metadata": {
    "collapsed": false
   },
   "id": "c64d41a9ae72cbdd"
  },
  {
   "cell_type": "code",
   "outputs": [
    {
     "name": "stdout",
     "output_type": "stream",
     "text": [
      "   Pregnancies  Glucose  BloodPressure  SkinThickness  Insulin    BMI  DiabetesPedigreeFunction  Age  Outcome\n",
      "0            6      148             72             35        0 33.600                     0.627   50        1\n",
      "1            1       85             66             29        0 26.600                     0.351   31        0\n",
      "2            8      183             64              0        0 23.300                     0.672   32        1\n",
      "3            1       89             66             23       94 28.100                     0.167   21        0\n",
      "4            0      137             40             35      168 43.100                     2.288   33        1\n",
      "     Pregnancies  Glucose  BloodPressure  SkinThickness  Insulin    BMI  DiabetesPedigreeFunction  Age  Outcome\n",
      "758            1      106             76              0        0 37.500                     0.197   26        0\n",
      "759            6      190             92              0        0 35.500                     0.278   66        1\n",
      "760            2       88             58             26       16 28.400                     0.766   22        0\n",
      "761            9      170             74             31        0 44.000                     0.403   43        1\n",
      "762            9       89             62              0        0 22.500                     0.142   33        0\n",
      "763           10      101             76             48      180 32.900                     0.171   63        0\n",
      "764            2      122             70             27        0 36.800                     0.340   27        0\n",
      "765            5      121             72             23      112 26.200                     0.245   30        0\n",
      "766            1      126             60              0        0 30.100                     0.349   47        1\n",
      "767            1       93             70             31        0 30.400                     0.315   23        0\n",
      "(768, 9)\n"
     ]
    }
   ],
   "source": [
    "# Print the first few rows of the dataframe (default is 5)\n",
    "print(df.head())\n",
    "\n",
    "# Print the last few rows of the dataframe (default is 5) (For example, we go with 10)\n",
    "print(df.tail(10))\n",
    "\n",
    "# Print the number of rows and columns in the dataframe\n",
    "print(df.shape)\n"
   ],
   "metadata": {
    "collapsed": false,
    "ExecuteTime": {
     "end_time": "2024-05-06T12:56:39.651124Z",
     "start_time": "2024-05-06T12:56:39.644387Z"
    }
   },
   "id": "50619ba649cac1f7",
   "execution_count": 473
  },
  {
   "cell_type": "markdown",
   "source": [
    "The df.info() command provides a quick overview of the structure of data frames. Indicates how many rows and columns the data frame contains. Specifies which columns are of which data type. Shows how many missing (NaN) values are in each column. Specifies how much memory the data frame uses."
   ],
   "metadata": {
    "collapsed": false
   },
   "id": "15c435358ccbe690"
  },
  {
   "cell_type": "code",
   "outputs": [
    {
     "name": "stdout",
     "output_type": "stream",
     "text": [
      "<class 'pandas.core.frame.DataFrame'>\n",
      "RangeIndex: 768 entries, 0 to 767\n",
      "Data columns (total 9 columns):\n",
      " #   Column                    Non-Null Count  Dtype  \n",
      "---  ------                    --------------  -----  \n",
      " 0   Pregnancies               768 non-null    int64  \n",
      " 1   Glucose                   768 non-null    int64  \n",
      " 2   BloodPressure             768 non-null    int64  \n",
      " 3   SkinThickness             768 non-null    int64  \n",
      " 4   Insulin                   768 non-null    int64  \n",
      " 5   BMI                       768 non-null    float64\n",
      " 6   DiabetesPedigreeFunction  768 non-null    float64\n",
      " 7   Age                       768 non-null    int64  \n",
      " 8   Outcome                   768 non-null    int64  \n",
      "dtypes: float64(2), int64(7)\n",
      "memory usage: 54.1 KB\n"
     ]
    }
   ],
   "source": [
    "df.info()"
   ],
   "metadata": {
    "collapsed": false,
    "ExecuteTime": {
     "end_time": "2024-05-06T12:56:39.656778Z",
     "start_time": "2024-05-06T12:56:39.652127Z"
    }
   },
   "id": "7caeb0980da289a4",
   "execution_count": 474
  },
  {
   "cell_type": "markdown",
   "source": [
    "Now we are going to explore more details on \"Outcome\" colomn.\n",
    "\n",
    "Counting the occurrences of each unique value in the \"Outcome\" column and printing them"
   ],
   "metadata": {
    "collapsed": false
   },
   "id": "84acf1c5c3250e89"
  },
  {
   "cell_type": "code",
   "outputs": [
    {
     "name": "stdout",
     "output_type": "stream",
     "text": [
      "Outcome\n",
      "0    500\n",
      "1    268\n",
      "Name: count, dtype: int64\n"
     ]
    }
   ],
   "source": [
    "print(df[\"Outcome\"].value_counts())"
   ],
   "metadata": {
    "collapsed": false,
    "ExecuteTime": {
     "end_time": "2024-05-06T12:56:39.695583Z",
     "start_time": "2024-05-06T12:56:39.692024Z"
    }
   },
   "id": "de8138e6acafcf4a",
   "execution_count": 475
  },
  {
   "cell_type": "markdown",
   "source": [
    "To display same information as  percentage distribution, we are going to divide the count of each value by the total number of rows."
   ],
   "metadata": {
    "collapsed": false
   },
   "id": "b09482d750618bd9"
  },
  {
   "cell_type": "code",
   "outputs": [
    {
     "name": "stdout",
     "output_type": "stream",
     "text": [
      "Outcome\n",
      "0   65.104\n",
      "1   34.896\n",
      "Name: count, dtype: float64\n"
     ]
    }
   ],
   "source": [
    "print(100*df[\"Outcome\"].value_counts()/len(df))"
   ],
   "metadata": {
    "collapsed": false,
    "ExecuteTime": {
     "end_time": "2024-05-06T12:56:39.716468Z",
     "start_time": "2024-05-06T12:56:39.712712Z"
    }
   },
   "id": "a6d7b2f9501d7054",
   "execution_count": 476
  },
  {
   "cell_type": "markdown",
   "source": [
    "To display descriptive statistics like mean, standard deviation, etc., in a transposed form for better readability, we are going to use .describe().T method. \".T\" means we will transpose the data., for better readability."
   ],
   "metadata": {
    "collapsed": false
   },
   "id": "335e4d1300fc33e0"
  },
  {
   "cell_type": "code",
   "outputs": [
    {
     "name": "stdout",
     "output_type": "stream",
     "text": [
      "                           count    mean     std    min    25%     50%     75%     max\n",
      "Pregnancies              768.000   3.845   3.370  0.000  1.000   3.000   6.000  17.000\n",
      "Glucose                  768.000 120.895  31.973  0.000 99.000 117.000 140.250 199.000\n",
      "BloodPressure            768.000  69.105  19.356  0.000 62.000  72.000  80.000 122.000\n",
      "SkinThickness            768.000  20.536  15.952  0.000  0.000  23.000  32.000  99.000\n",
      "Insulin                  768.000  79.799 115.244  0.000  0.000  30.500 127.250 846.000\n",
      "BMI                      768.000  31.993   7.884  0.000 27.300  32.000  36.600  67.100\n",
      "DiabetesPedigreeFunction 768.000   0.472   0.331  0.078  0.244   0.372   0.626   2.420\n",
      "Age                      768.000  33.241  11.760 21.000 24.000  29.000  41.000  81.000\n",
      "Outcome                  768.000   0.349   0.477  0.000  0.000   0.000   1.000   1.000\n"
     ]
    }
   ],
   "source": [
    "print(df.describe().T)"
   ],
   "metadata": {
    "collapsed": false,
    "ExecuteTime": {
     "end_time": "2024-05-06T12:56:39.795811Z",
     "start_time": "2024-05-06T12:56:39.782752Z"
    }
   },
   "id": "79120d3c53c5f93d",
   "execution_count": 477
  },
  {
   "cell_type": "markdown",
   "source": [
    "Finally, to visualize all data we explored, we are going to use Seaborn and Plot libraries."
   ],
   "metadata": {
    "collapsed": false
   },
   "id": "1b1d468c99a6625d"
  },
  {
   "cell_type": "code",
   "outputs": [
    {
     "data": {
      "text/plain": "<Figure size 640x480 with 1 Axes>",
      "image/png": "[encoded data removed]"
     },
     "metadata": {},
     "output_type": "display_data"
    }
   ],
   "source": [
    "sns.countplot(x=\"Outcome\", data=df)\n",
    "plt.show()"
   ],
   "metadata": {
    "collapsed": false,
    "ExecuteTime": {
     "end_time": "2024-05-06T12:56:39.893113Z",
     "start_time": "2024-05-06T12:56:39.810434Z"
    }
   },
   "id": "6c6980818446e126",
   "execution_count": 478
  },
  {
   "cell_type": "markdown",
   "source": [
    "The code snippet below defines a function plot_numerical_col to generate histograms for numerical columns in a DataFrame. It then selects all columns in the DataFrame except those related to \"Outcome\" and plots histograms for each selected column using the defined function. This allows for a concise visual analysis of the distribution of numerical data across the DataFrame, excluding \"Outcome\" columns."
   ],
   "metadata": {
    "collapsed": false
   },
   "id": "a63c6d6f02f633c2"
  },
  {
   "cell_type": "code",
   "outputs": [
    {
     "data": {
      "text/plain": "<Figure size 640x480 with 1 Axes>",
      "image/png": "[encoded data removed]"
     },
     "metadata": {},
     "output_type": "display_data"
    },
    {
     "data": {
      "text/plain": "<Figure size 640x480 with 1 Axes>",
      "image/png": "[encoded data removed]"
     },
     "metadata": {},
     "output_type": "display_data"
    },
    {
     "data": {
      "text/plain": "<Figure size 640x480 with 1 Axes>",
      "image/png": "[encoded data removed]"
     },
     "metadata": {},
     "output_type": "display_data"
    },
    {
     "data": {
      "text/plain": "<Figure size 640x480 with 1 Axes>",
      "image/png": "[encoded data removed]"
     },
     "metadata": {},
     "output_type": "display_data"
    },
    {
     "data": {
      "text/plain": "<Figure size 640x480 with 1 Axes>",
      "image/png": "[encoded data removed]"
     },
     "metadata": {},
     "output_type": "display_data"
    },
    {
     "data": {
      "text/plain": "<Figure size 640x480 with 1 Axes>",
      "image/png": "[encoded data removed]"
     },
     "metadata": {},
     "output_type": "display_data"
    },
    {
     "data": {
      "text/plain": "<Figure size 640x480 with 1 Axes>",
      "image/png": "[encoded data removed]"
     },
     "metadata": {},
     "output_type": "display_data"
    },
    {
     "data": {
      "text/plain": "<Figure size 640x480 with 1 Axes>",
      "image/png": "[encoded data removed]"
     },
     "metadata": {},
     "output_type": "display_data"
    }
   ],
   "source": [
    "def plot_numerical_col(dataframe, numerical_col):\n",
    "    dataframe[numerical_col].hist(bins=20)\n",
    "    plt.xlabel(numerical_col)\n",
    "    plt.show(block=True)\n",
    "\n",
    "\n",
    "cols = [col for col in df.columns if \"Outcome\" not in col]\n",
    "\n",
    "for col in cols:\n",
    "    plot_numerical_col(df, col)"
   ],
   "metadata": {
    "collapsed": false,
    "ExecuteTime": {
     "end_time": "2024-05-06T12:56:40.945419Z",
     "start_time": "2024-05-06T12:56:39.894117Z"
    }
   },
   "id": "398fb4a50cea0e58",
   "execution_count": 479
  },
  {
   "cell_type": "markdown",
   "source": [
    "# Data Preprocessing Section\n",
    "\n",
    "Data preprocessing is the initial step in data analysis, involving the transformation of raw data into a clean and organized format suitable for further analysis. This process typically includes tasks such as handling missing values, removing duplicates, scaling features, encoding categorical variables, and feature engineering. Data preprocessing aims to improve data quality, enhance model performance, and ensure that the data meets the requirements of the analytical techniques to be applied. By addressing inconsistencies and preparing the data appropriately, data preprocessing facilitates more accurate and meaningful insights during subsequent analysis tasks, such as machine learning modeling or statistical analysis."
   ],
   "metadata": {
    "collapsed": false
   },
   "id": "94cb689dafa2f0ab"
  },
  {
   "cell_type": "markdown",
   "source": [
    "First, we are going to take a look if there is any missing data.\n",
    "\n",
    "\"df.isnull().sum()\" counts the total number of missing values in each column of a DataFrame. It returns a series where each column name corresponds to its count of missing values."
   ],
   "metadata": {
    "collapsed": false
   },
   "id": "c9da8e97491d4f18"
  },
  {
   "cell_type": "code",
   "outputs": [
    {
     "data": {
      "text/plain": "Pregnancies                 0\nGlucose                     0\nBloodPressure               0\nSkinThickness               0\nInsulin                     0\nBMI                         0\nDiabetesPedigreeFunction    0\nAge                         0\nOutcome                     0\ndtype: int64"
     },
     "execution_count": 480,
     "metadata": {},
     "output_type": "execute_result"
    }
   ],
   "source": [
    "df.isnull().sum()"
   ],
   "metadata": {
    "collapsed": false,
    "ExecuteTime": {
     "end_time": "2024-05-06T12:56:40.950986Z",
     "start_time": "2024-05-06T12:56:40.946422Z"
    }
   },
   "id": "504bd8110c77ba0d",
   "execution_count": 480
  },
  {
   "cell_type": "markdown",
   "source": [
    "Belong to results, there is no missing data on our dataset. \n",
    "\n",
    "So, we are going to check and replace our outliers. Outliers basically means noises of our dataset. Those noises do not represenst main number patters of our datas. For example, pragnancies datas can not be more than 9 month or lower than 0 month. Thant means our pragnacies range is 0-9. We should exclude the datas not in our range. To exclude those outlier noises, we are going to implement two function named \"check_outlier\" and \"outlier_tresholds\".\n",
    "\n",
    "The first function, outlier_thresholds, calculates lower and upper limits for identifying outliers in a numerical column of a DataFrame based on quartiles and interquartile range. The second function, check_outlier, checks for outliers in a column using the limits obtained from the first function, returning True if any outliers are found, and False otherwise."
   ],
   "metadata": {
    "collapsed": false
   },
   "id": "cad67567167c669b"
  },
  {
   "cell_type": "code",
   "outputs": [
    {
     "name": "stdout",
     "output_type": "stream",
     "text": [
      "Pregnancies False\n",
      "Glucose False\n",
      "BloodPressure False\n",
      "SkinThickness False\n",
      "Insulin True\n",
      "BMI False\n",
      "DiabetesPedigreeFunction False\n",
      "Age False\n"
     ]
    }
   ],
   "source": [
    "def outlier_thresholds(dataframe, col_name, q1=0.05, q3=0.95):\n",
    "    \n",
    "    quartile1 = dataframe[col_name].quantile(q1)\n",
    "    quartile3 = dataframe[col_name].quantile(q3)\n",
    "    interquantile_range = quartile3 - quartile1\n",
    "    up_limit = quartile3 + 1.5 * interquantile_range\n",
    "    low_limit = quartile1 - 1.5 * interquantile_range\n",
    "    return low_limit, up_limit\n",
    "\n",
    "def check_outlier(dataframe, col_name):\n",
    "    \n",
    "    low_limit, up_limit = outlier_thresholds(dataframe, col_name)\n",
    "    if dataframe[(dataframe[col_name] > up_limit) | (dataframe[col_name] < low_limit)].any(axis=None):\n",
    "        return True\n",
    "    else:\n",
    "        return False\n",
    "    \n",
    "for col in cols:\n",
    "    # Look for every column\n",
    "    print(col, check_outlier(df, col))"
   ],
   "metadata": {
    "collapsed": false,
    "ExecuteTime": {
     "end_time": "2024-05-06T12:56:40.966897Z",
     "start_time": "2024-05-06T12:56:40.951989Z"
    }
   },
   "id": "a490e96907936f3",
   "execution_count": 481
  },
  {
   "cell_type": "markdown",
   "source": [
    "According to results, Only \"Insulin\" column has an outlier.\n",
    "\n",
    "Then, let's replace the outliers in the Insulin column with our range limits which will be calculated in the function below. If outlier variable higher than up_limit, replace it with up_limit. Else if outlier variable lower than low_limit, replace it with low_limit."
   ],
   "metadata": {
    "collapsed": false
   },
   "id": "c5ed78dd874f51b3"
  },
  {
   "cell_type": "code",
   "outputs": [],
   "source": [
    "def replace_with_thresholds(dataframe, variable):\n",
    "    low_limit, up_limit = outlier_thresholds(dataframe, variable)\n",
    "    dataframe.loc[(dataframe[variable] < low_limit), variable] = low_limit\n",
    "    dataframe.loc[(dataframe[variable] > up_limit), variable] = up_limit\n",
    "\n",
    "replace_with_thresholds(df, \"Insulin\")"
   ],
   "metadata": {
    "collapsed": false,
    "ExecuteTime": {
     "end_time": "2024-05-06T12:56:40.973772Z",
     "start_time": "2024-05-06T12:56:40.966897Z"
    }
   },
   "id": "95084d6bed4572b0",
   "execution_count": 482
  },
  {
   "cell_type": "markdown",
   "source": [
    "Let's check if the outliers are removed."
   ],
   "metadata": {
    "collapsed": false
   },
   "id": "208590a51a9e5092"
  },
  {
   "cell_type": "code",
   "outputs": [
    {
     "name": "stdout",
     "output_type": "stream",
     "text": [
      "Pregnancies False\n",
      "Glucose False\n",
      "BloodPressure False\n",
      "SkinThickness False\n",
      "Insulin False\n",
      "BMI False\n",
      "DiabetesPedigreeFunction False\n",
      "Age False\n"
     ]
    }
   ],
   "source": [
    "for col in cols:\n",
    "    print(col, check_outlier(df, col))"
   ],
   "metadata": {
    "collapsed": false,
    "ExecuteTime": {
     "end_time": "2024-05-06T12:56:40.988037Z",
     "start_time": "2024-05-06T12:56:40.974778Z"
    }
   },
   "id": "361c009cc6355a6",
   "execution_count": 483
  },
  {
   "cell_type": "markdown",
   "source": [
    "Obviously, outlier datas removed. So now we can continue with data scaling.\n",
    "\n",
    "**Data scaling** is a preprocessing technique used in machine learning to standardize or normalize the features of a dataset. It involves transforming the values of numerical features to a similar scale to prevent features with larger magnitudes from dominating those with smaller magnitudes during model training. Scaling ensures that all features contribute equally to the model's learning process and improves the convergence rate of many optimization algorithms. Common scaling methods include StandardScaler, MinMaxScaler, and RobustScaler, each applying different transformations to bring the feature values within a specific range or distribution. Overall, data scaling enhances the performance and stability of machine learning models by making them more robust to the differences in feature magnitudes.\n",
    "\n",
    "\n",
    "This code snippet applies the RobustScaler transformation to each numerical column (col) in the DataFrame (df). It scales the values within each column to a similar range, making them more comparable and suitable for machine learning algorithms.\n",
    "\n"
   ],
   "metadata": {
    "collapsed": false
   },
   "id": "5a9d3937f47b52f0"
  },
  {
   "cell_type": "code",
   "outputs": [],
   "source": [
    "for col in cols:\n",
    "    df[col] = RobustScaler().fit_transform(df[[col]])"
   ],
   "metadata": {
    "collapsed": false,
    "ExecuteTime": {
     "end_time": "2024-05-06T12:56:41.005762Z",
     "start_time": "2024-05-06T12:56:40.988037Z"
    }
   },
   "id": "1e8f293e39159ab9",
   "execution_count": 484
  },
  {
   "cell_type": "markdown",
   "source": [
    "Now we can ensure if the scaler works fine."
   ],
   "metadata": {
    "collapsed": false
   },
   "id": "45c93941f3a94248"
  },
  {
   "cell_type": "code",
   "outputs": [
    {
     "data": {
      "text/plain": "    Pregnancies  Glucose  BloodPressure  SkinThickness  Insulin    BMI  DiabetesPedigreeFunction    Age  Outcome\n0         0.600    0.752          0.000          0.375   -0.240  0.172                     0.665  1.235        1\n1        -0.400   -0.776         -0.333          0.188   -0.240 -0.581                    -0.056  0.118        0\n2         1.000    1.600         -0.444         -0.719   -0.240 -0.935                     0.783  0.176        1\n3        -0.400   -0.679         -0.333          0.000    0.499 -0.419                    -0.537 -0.471        0\n4        -0.600    0.485         -1.778          0.375    1.081  1.194                     5.008  0.235        1\n5         0.400   -0.024          0.111         -0.719   -0.240 -0.688                    -0.448  0.059        0\n6         0.000   -0.945         -1.222          0.281    0.452 -0.108                    -0.325 -0.176        1\n7         1.400   -0.048         -4.000         -0.719   -0.240  0.355                    -0.624  0.000        0\n8        -0.200    1.939         -0.111          0.688    4.028 -0.161                    -0.561  1.412        1\n9         1.000    0.194          1.333         -0.719   -0.240 -3.441                    -0.367  1.471        1\n10        0.200   -0.170          1.111         -0.719   -0.240  0.602                    -0.475  0.059        0\n11        1.400    1.236          0.111         -0.719   -0.240  0.645                     0.430  0.294        1\n12        1.400    0.533          0.444         -0.719   -0.240 -0.527                     2.793  1.647        0\n13       -0.400    1.745         -0.667          0.000    5.517 -0.204                     0.067  1.765        1\n14        0.400    1.188          0.000         -0.125    1.136 -0.667                     0.561  1.294        1",
      "text/html": "<div>\n<style scoped>\n    .dataframe tbody tr th:only-of-type {\n        vertical-align: middle;\n    }\n\n    .dataframe tbody tr th {\n        vertical-align: top;\n    }\n\n    .dataframe thead th {\n        text-align: right;\n    }\n</style>\n<table border=\"1\" class=\"dataframe\">\n  <thead>\n    <tr style=\"text-align: right;\">\n      <th></th>\n      <th>Pregnancies</th>\n      <th>Glucose</th>\n      <th>BloodPressure</th>\n      <th>SkinThickness</th>\n      <th>Insulin</th>\n      <th>BMI</th>\n      <th>DiabetesPedigreeFunction</th>\n      <th>Age</th>\n      <th>Outcome</th>\n    </tr>\n  </thead>\n  <tbody>\n    <tr>\n      <th>0</th>\n      <td>0.600</td>\n      <td>0.752</td>\n      <td>0.000</td>\n      <td>0.375</td>\n      <td>-0.240</td>\n      <td>0.172</td>\n      <td>0.665</td>\n      <td>1.235</td>\n      <td>1</td>\n    </tr>\n    <tr>\n      <th>1</th>\n      <td>-0.400</td>\n      <td>-0.776</td>\n      <td>-0.333</td>\n      <td>0.188</td>\n      <td>-0.240</td>\n      <td>-0.581</td>\n      <td>-0.056</td>\n      <td>0.118</td>\n      <td>0</td>\n    </tr>\n    <tr>\n      <th>2</th>\n      <td>1.000</td>\n      <td>1.600</td>\n      <td>-0.444</td>\n      <td>-0.719</td>\n      <td>-0.240</td>\n      <td>-0.935</td>\n      <td>0.783</td>\n      <td>0.176</td>\n      <td>1</td>\n    </tr>\n    <tr>\n      <th>3</th>\n      <td>-0.400</td>\n      <td>-0.679</td>\n      <td>-0.333</td>\n      <td>0.000</td>\n      <td>0.499</td>\n      <td>-0.419</td>\n      <td>-0.537</td>\n      <td>-0.471</td>\n      <td>0</td>\n    </tr>\n    <tr>\n      <th>4</th>\n      <td>-0.600</td>\n      <td>0.485</td>\n      <td>-1.778</td>\n      <td>0.375</td>\n      <td>1.081</td>\n      <td>1.194</td>\n      <td>5.008</td>\n      <td>0.235</td>\n      <td>1</td>\n    </tr>\n    <tr>\n      <th>5</th>\n      <td>0.400</td>\n      <td>-0.024</td>\n      <td>0.111</td>\n      <td>-0.719</td>\n      <td>-0.240</td>\n      <td>-0.688</td>\n      <td>-0.448</td>\n      <td>0.059</td>\n      <td>0</td>\n    </tr>\n    <tr>\n      <th>6</th>\n      <td>0.000</td>\n      <td>-0.945</td>\n      <td>-1.222</td>\n      <td>0.281</td>\n      <td>0.452</td>\n      <td>-0.108</td>\n      <td>-0.325</td>\n      <td>-0.176</td>\n      <td>1</td>\n    </tr>\n    <tr>\n      <th>7</th>\n      <td>1.400</td>\n      <td>-0.048</td>\n      <td>-4.000</td>\n      <td>-0.719</td>\n      <td>-0.240</td>\n      <td>0.355</td>\n      <td>-0.624</td>\n      <td>0.000</td>\n      <td>0</td>\n    </tr>\n    <tr>\n      <th>8</th>\n      <td>-0.200</td>\n      <td>1.939</td>\n      <td>-0.111</td>\n      <td>0.688</td>\n      <td>4.028</td>\n      <td>-0.161</td>\n      <td>-0.561</td>\n      <td>1.412</td>\n      <td>1</td>\n    </tr>\n    <tr>\n      <th>9</th>\n      <td>1.000</td>\n      <td>0.194</td>\n      <td>1.333</td>\n      <td>-0.719</td>\n      <td>-0.240</td>\n      <td>-3.441</td>\n      <td>-0.367</td>\n      <td>1.471</td>\n      <td>1</td>\n    </tr>\n    <tr>\n      <th>10</th>\n      <td>0.200</td>\n      <td>-0.170</td>\n      <td>1.111</td>\n      <td>-0.719</td>\n      <td>-0.240</td>\n      <td>0.602</td>\n      <td>-0.475</td>\n      <td>0.059</td>\n      <td>0</td>\n    </tr>\n    <tr>\n      <th>11</th>\n      <td>1.400</td>\n      <td>1.236</td>\n      <td>0.111</td>\n      <td>-0.719</td>\n      <td>-0.240</td>\n      <td>0.645</td>\n      <td>0.430</td>\n      <td>0.294</td>\n      <td>1</td>\n    </tr>\n    <tr>\n      <th>12</th>\n      <td>1.400</td>\n      <td>0.533</td>\n      <td>0.444</td>\n      <td>-0.719</td>\n      <td>-0.240</td>\n      <td>-0.527</td>\n      <td>2.793</td>\n      <td>1.647</td>\n      <td>0</td>\n    </tr>\n    <tr>\n      <th>13</th>\n      <td>-0.400</td>\n      <td>1.745</td>\n      <td>-0.667</td>\n      <td>0.000</td>\n      <td>5.517</td>\n      <td>-0.204</td>\n      <td>0.067</td>\n      <td>1.765</td>\n      <td>1</td>\n    </tr>\n    <tr>\n      <th>14</th>\n      <td>0.400</td>\n      <td>1.188</td>\n      <td>0.000</td>\n      <td>-0.125</td>\n      <td>1.136</td>\n      <td>-0.667</td>\n      <td>0.561</td>\n      <td>1.294</td>\n      <td>1</td>\n    </tr>\n  </tbody>\n</table>\n</div>"
     },
     "execution_count": 485,
     "metadata": {},
     "output_type": "execute_result"
    }
   ],
   "source": [
    "df.head(15)"
   ],
   "metadata": {
    "collapsed": false,
    "ExecuteTime": {
     "end_time": "2024-05-06T12:56:41.013632Z",
     "start_time": "2024-05-06T12:56:41.006769Z"
    }
   },
   "id": "de7384afc95aee03",
   "execution_count": 485
  },
  {
   "cell_type": "markdown",
   "source": [
    "Everything looks fine, now its time to switch to next section."
   ],
   "metadata": {
    "collapsed": false
   },
   "id": "87088f2edfa567c6"
  },
  {
   "cell_type": "markdown",
   "source": [
    "# Model Selection and Prediction Section\n",
    "\n",
    "In this section we are going to explore and select which machine learning model best for our dataset without any optimization. We are going to use **\"Cross Validation\"** method to inspect model performance.\n",
    "\n",
    "First, we should split \"Outcome\" and the rest."
   ],
   "metadata": {
    "collapsed": false
   },
   "id": "831db28f2678ad67"
  },
  {
   "cell_type": "code",
   "outputs": [],
   "source": [
    "y = df[\"Outcome\"]\n",
    "X = df.drop([\"Outcome\"], axis=1)"
   ],
   "metadata": {
    "collapsed": false,
    "ExecuteTime": {
     "end_time": "2024-05-06T12:56:41.017390Z",
     "start_time": "2024-05-06T12:56:41.014637Z"
    }
   },
   "id": "a911628cc59a1920",
   "execution_count": 486
  },
  {
   "cell_type": "code",
   "outputs": [
    {
     "data": {
      "text/plain": "0    1\n1    0\n2    1\n3    0\n4    1\nName: Outcome, dtype: int64"
     },
     "execution_count": 487,
     "metadata": {},
     "output_type": "execute_result"
    }
   ],
   "source": [
    "y.head()"
   ],
   "metadata": {
    "collapsed": false,
    "ExecuteTime": {
     "end_time": "2024-05-06T12:56:41.022664Z",
     "start_time": "2024-05-06T12:56:41.018438Z"
    }
   },
   "id": "fca62533100d5a03",
   "execution_count": 487
  },
  {
   "cell_type": "code",
   "outputs": [
    {
     "data": {
      "text/plain": "   Pregnancies  Glucose  BloodPressure  SkinThickness  Insulin    BMI  DiabetesPedigreeFunction    Age\n0        0.600    0.752          0.000          0.375   -0.240  0.172                     0.665  1.235\n1       -0.400   -0.776         -0.333          0.188   -0.240 -0.581                    -0.056  0.118\n2        1.000    1.600         -0.444         -0.719   -0.240 -0.935                     0.783  0.176\n3       -0.400   -0.679         -0.333          0.000    0.499 -0.419                    -0.537 -0.471\n4       -0.600    0.485         -1.778          0.375    1.081  1.194                     5.008  0.235",
      "text/html": "<div>\n<style scoped>\n    .dataframe tbody tr th:only-of-type {\n        vertical-align: middle;\n    }\n\n    .dataframe tbody tr th {\n        vertical-align: top;\n    }\n\n    .dataframe thead th {\n        text-align: right;\n    }\n</style>\n<table border=\"1\" class=\"dataframe\">\n  <thead>\n    <tr style=\"text-align: right;\">\n      <th></th>\n      <th>Pregnancies</th>\n      <th>Glucose</th>\n      <th>BloodPressure</th>\n      <th>SkinThickness</th>\n      <th>Insulin</th>\n      <th>BMI</th>\n      <th>DiabetesPedigreeFunction</th>\n      <th>Age</th>\n    </tr>\n  </thead>\n  <tbody>\n    <tr>\n      <th>0</th>\n      <td>0.600</td>\n      <td>0.752</td>\n      <td>0.000</td>\n      <td>0.375</td>\n      <td>-0.240</td>\n      <td>0.172</td>\n      <td>0.665</td>\n      <td>1.235</td>\n    </tr>\n    <tr>\n      <th>1</th>\n      <td>-0.400</td>\n      <td>-0.776</td>\n      <td>-0.333</td>\n      <td>0.188</td>\n      <td>-0.240</td>\n      <td>-0.581</td>\n      <td>-0.056</td>\n      <td>0.118</td>\n    </tr>\n    <tr>\n      <th>2</th>\n      <td>1.000</td>\n      <td>1.600</td>\n      <td>-0.444</td>\n      <td>-0.719</td>\n      <td>-0.240</td>\n      <td>-0.935</td>\n      <td>0.783</td>\n      <td>0.176</td>\n    </tr>\n    <tr>\n      <th>3</th>\n      <td>-0.400</td>\n      <td>-0.679</td>\n      <td>-0.333</td>\n      <td>0.000</td>\n      <td>0.499</td>\n      <td>-0.419</td>\n      <td>-0.537</td>\n      <td>-0.471</td>\n    </tr>\n    <tr>\n      <th>4</th>\n      <td>-0.600</td>\n      <td>0.485</td>\n      <td>-1.778</td>\n      <td>0.375</td>\n      <td>1.081</td>\n      <td>1.194</td>\n      <td>5.008</td>\n      <td>0.235</td>\n    </tr>\n  </tbody>\n</table>\n</div>"
     },
     "execution_count": 488,
     "metadata": {},
     "output_type": "execute_result"
    }
   ],
   "source": [
    "X.head()"
   ],
   "metadata": {
    "collapsed": false,
    "ExecuteTime": {
     "end_time": "2024-05-06T12:56:41.028930Z",
     "start_time": "2024-05-06T12:56:41.022664Z"
    }
   },
   "id": "7bd1716b5fc28dff",
   "execution_count": 488
  },
  {
   "cell_type": "markdown",
   "source": [
    "Let's take a look for models. To initialize models, run the code snipper below."
   ],
   "metadata": {
    "collapsed": false
   },
   "id": "512a4744bef09fac"
  },
  {
   "cell_type": "code",
   "outputs": [],
   "source": [
    "from sklearn.metrics import accuracy_score, precision_score\n",
    "from sklearn.model_selection import cross_validate\n",
    "from sklearn.tree import DecisionTreeClassifier\n",
    "from catboost import CatBoostClassifier\n",
    "from sklearn.ensemble import GradientBoostingClassifier, RandomForestClassifier\n",
    "from lightgbm import LGBMClassifier\n",
    "from xgboost import XGBClassifier\n",
    "\n",
    "models = {\n",
    "    \"CART\": DecisionTreeClassifier(random_state=42),\n",
    "    \"CatBoost\": CatBoostClassifier(random_state=42, verbose=False),\n",
    "    \"GBM\": GradientBoostingClassifier(random_state=42),\n",
    "    \"LightGBM\": LGBMClassifier(random_state=42, verbose=-1),\n",
    "    \"Random Forest\": RandomForestClassifier(random_state=42),\n",
    "    \"XGBoost\": XGBClassifier(random_state=42, use_label_encoder=False)\n",
    "}"
   ],
   "metadata": {
    "collapsed": false,
    "ExecuteTime": {
     "end_time": "2024-05-06T12:56:41.032899Z",
     "start_time": "2024-05-06T12:56:41.028930Z"
    }
   },
   "id": "6b78d9ff1b71eb89",
   "execution_count": 489
  },
  {
   "cell_type": "markdown",
   "source": [
    "Now let's measure accuracy and precision for our models.\n",
    "\n",
    "Accuracy and precision is most used criteria for Selection projects. So we are going with them.\n",
    "\n",
    "Let's take a look."
   ],
   "metadata": {
    "collapsed": false
   },
   "id": "310a374428a9c2d4"
  },
  {
   "cell_type": "code",
   "outputs": [
    {
     "name": "stdout",
     "output_type": "stream",
     "text": [
      "CART Accuracy score: 0.7018284347231716\n",
      "CART Precision score: 0.5765596458139561\n",
      "CatBoost Accuracy score: 0.7656527682843473\n",
      "CatBoost Precision score: 0.6956980676328502\n",
      "GBM Accuracy score: 0.7604066985645933\n",
      "GBM Precision score: 0.6870570429071179\n",
      "LightGBM Accuracy score: 0.7487354750512646\n",
      "LightGBM Precision score: 0.6582283421162878\n",
      "Random Forest Accuracy score: 0.7577751196172249\n",
      "Random Forest Precision score: 0.6920056644610024\n",
      "XGBoost Accuracy score: 0.7434723171565276\n",
      "XGBoost Precision score: 0.6385130380486786\n"
     ]
    }
   ],
   "source": [
    "# Define scoring metrics\n",
    "scoring_metrics = [\"accuracy\", \"precision\"]\n",
    "\n",
    "# Iterate over each model\n",
    "for model_name, model in models.items():\n",
    "    # Initialize an empty dictionary to store cross-validation results\n",
    "    cv_results = {}\n",
    "\n",
    "    # Iterate over each scoring metric\n",
    "    for metric in scoring_metrics:\n",
    "        # Perform cross-validation for the current model and metric\n",
    "        cv_results[metric] = cross_validate(model, X, y, cv=10, scoring={metric: metric}, error_score='raise')\n",
    "        # Calculate the mean score for the current metric\n",
    "        mean_score = cv_results[metric]['test_' + metric].mean()\n",
    "        # Print the model name and the mean score for the current metric\n",
    "        print(f\"{model_name} {metric.capitalize()} score: {mean_score}\")"
   ],
   "metadata": {
    "collapsed": false,
    "ExecuteTime": {
     "end_time": "2024-05-06T12:57:30.858725Z",
     "start_time": "2024-05-06T12:56:41.033941Z"
    }
   },
   "id": "3023224abd7f3650",
   "execution_count": 490
  },
  {
   "cell_type": "markdown",
   "source": [
    "Looks like **CatBoost** model is best for us. So we continue with CatBoost."
   ],
   "metadata": {
    "collapsed": false
   },
   "id": "4e7414e414d19e77"
  },
  {
   "cell_type": "markdown",
   "source": [
    "# Hyperparameter Optimization Section\n",
    "\n",
    "**Hyperparameter optimization** is the process of finding the best set of hyperparameters for a machine learning model. Hyperparameters are configuration settings that are external to the model and cannot be directly estimated from the data. They control the behavior of the learning algorithm and can significantly impact the performance of the model.\n",
    "\n",
    "Although RandomSearchCV() allows for exploration of a broad parameter space to extract a subset, GridSearchCV() exhaustively tries all combinations within this subset to identify optimal parameters. However, in this scenario, we'll exclusively utilize GridSearchCV().\n",
    "\n",
    "Our CatBoost model parameter example is this:\n"
   ],
   "metadata": {
    "collapsed": false
   },
   "id": "adb939fba0990258"
  },
  {
   "cell_type": "code",
   "outputs": [],
   "source": [
    "from sklearn.model_selection import GridSearchCV\n",
    "\n",
    "catboost_params = {\"iterations\": [100, 200],\n",
    "                   \"learning_rate\": [0.01, 0.1],\n",
    "                   \"depth\": [2, 3, 8]}"
   ],
   "metadata": {
    "collapsed": false,
    "ExecuteTime": {
     "end_time": "2024-05-06T12:57:30.862985Z",
     "start_time": "2024-05-06T12:57:30.859756Z"
    }
   },
   "id": "32597fe059f6ff94",
   "execution_count": 491
  },
  {
   "cell_type": "markdown",
   "source": [
    "Fitting 10 folds for each of 36 candidates, totalling 360 fits.\n",
    "\n",
    "Let's apply them."
   ],
   "metadata": {
    "collapsed": false
   },
   "id": "c4e186b9250c230f"
  },
  {
   "cell_type": "code",
   "outputs": [
    {
     "name": "stdout",
     "output_type": "stream",
     "text": [
      "Fitting 3 folds for each of 12 candidates, totalling 36 fits\n"
     ]
    }
   ],
   "source": [
    "catboost_model = CatBoostClassifier(random_state=42, verbose=False)\n",
    "catboost_best_grid = GridSearchCV(catboost_model, catboost_params, cv=3, n_jobs=-1, verbose=True).fit(X, y)"
   ],
   "metadata": {
    "collapsed": false,
    "ExecuteTime": {
     "end_time": "2024-05-06T12:57:33.727640Z",
     "start_time": "2024-05-06T12:57:30.863991Z"
    }
   },
   "id": "e11c1e6ab1aa6963",
   "execution_count": 492
  },
  {
   "cell_type": "markdown",
   "source": [
    "Insert the best parameter into our model and run."
   ],
   "metadata": {
    "collapsed": false
   },
   "id": "ee3e8fa21c7dc7af"
  },
  {
   "cell_type": "code",
   "outputs": [],
   "source": [
    "catboost_final = catboost_model.set_params(**catboost_best_grid.best_params_, random_state=42).fit(X, y)"
   ],
   "metadata": {
    "collapsed": false,
    "ExecuteTime": {
     "end_time": "2024-05-06T12:57:33.966194Z",
     "start_time": "2024-05-06T12:57:33.727640Z"
    }
   },
   "id": "2d4e26a0366752bb",
   "execution_count": 493
  },
  {
   "cell_type": "markdown",
   "source": [
    "Let's see which parameters is the best for our model in our example parameter list. We are going to test our model for \"Accuracy\"."
   ],
   "metadata": {
    "collapsed": false
   },
   "id": "e2ef05ce7e72ee71"
  },
  {
   "cell_type": "code",
   "outputs": [
    {
     "name": "stdout",
     "output_type": "stream",
     "text": [
      "accuracy score:  0.7669172932330828\n"
     ]
    }
   ],
   "source": [
    "cv_results = cross_validate(catboost_final, X, y, cv=10, scoring=[\"accuracy\"])\n",
    "print(\"accuracy score: \", cv_results[\"test_accuracy\"].mean())"
   ],
   "metadata": {
    "collapsed": false,
    "ExecuteTime": {
     "end_time": "2024-05-06T12:57:36.344391Z",
     "start_time": "2024-05-06T12:57:33.966194Z"
    }
   },
   "id": "b26e97cf18f39305",
   "execution_count": 494
  },
  {
   "cell_type": "markdown",
   "source": [
    "# Model Rating Section\n",
    "\n",
    "In this section, we will examine the success of our optimized CatBoost model. Then we will create the **Confusion matrix**. We will examine **error metrics**.\n",
    "\n",
    "Let's check our model for all evaluation criterias."
   ],
   "metadata": {
    "collapsed": false
   },
   "id": "f410d591615a5ef2"
  },
  {
   "cell_type": "code",
   "outputs": [
    {
     "name": "stdout",
     "output_type": "stream",
     "text": [
      "f1 score:  0.6406583288662209\n",
      "precision score:  0.6966536545741637\n",
      "recall score:  0.6007122507122508\n",
      "accuracy score:  0.7669172932330828\n",
      "roc_auc score:  0.8334444444444443\n"
     ]
    }
   ],
   "source": [
    "cv_results = cross_validate(catboost_final, X, y, cv=10, scoring=[\"accuracy\", \"f1\", \"roc_auc\", \"precision\", \"recall\"])\n",
    "print(\"f1 score: \", cv_results['test_f1'].mean())\n",
    "print(\"precision score: \", cv_results['test_precision'].mean())\n",
    "print(\"recall score: \", cv_results['test_recall'].mean())\n",
    "print(\"accuracy score: \", cv_results['test_accuracy'].mean())\n",
    "print(\"roc_auc score: \", cv_results['test_roc_auc'].mean())"
   ],
   "metadata": {
    "collapsed": false,
    "ExecuteTime": {
     "end_time": "2024-05-06T12:57:38.775106Z",
     "start_time": "2024-05-06T12:57:36.345395Z"
    }
   },
   "id": "241e8f69caa7b05",
   "execution_count": 495
  },
  {
   "cell_type": "markdown",
   "source": [
    "Now let's perform the prediction process and create a **Confusion matrix**.\n",
    "\n",
    "The function blow, plot_confusion_matrix, visualizes the relationship between the actual labels (y) and the predicted labels (y_predict) using a heatmap representation of the confusion matrix. It calculates the accuracy score between the actual and predicted labels and displays it on top of the confusion matrix. This visualization helps understand how well the model performs in classifying each label and which classes are misclassified."
   ],
   "metadata": {
    "collapsed": false
   },
   "id": "9ae7bd017358a19b"
  },
  {
   "cell_type": "code",
   "outputs": [
    {
     "data": {
      "text/plain": "<Figure size 640x480 with 2 Axes>",
      "image/png": "[encoded data removed]"
     },
     "metadata": {},
     "output_type": "display_data"
    }
   ],
   "source": [
    "# (X) parameter coming from X = df.drop([\"Outcome\"], axis=1)\n",
    "# So it is our datafile without \"Outcome\" column.\n",
    "y_predict = catboost_final.predict(X)\n",
    "\n",
    "def plot_confucion_matrix(y, y_predict):\n",
    "    acc = round(accuracy_score(y,y_predict), 2)\n",
    "    cm = confusion_matrix(y, y_predict)\n",
    "    sns.heatmap(cm, annot=True, fmt=\".0f\", cmap = 'YlGnBu')\n",
    "    plt.xlabel('predicted values')\n",
    "    plt.ylabel('real values')\n",
    "    plt.title('Accuracy Score: {0}'.format(acc), size=10)\n",
    "    plt.show()\n",
    "\n",
    "plot_confucion_matrix(y, y_predict)"
   ],
   "metadata": {
    "collapsed": false,
    "ExecuteTime": {
     "end_time": "2024-05-06T12:57:38.897986Z",
     "start_time": "2024-05-06T12:57:38.776109Z"
    }
   },
   "id": "b4d8ca6865977b6e",
   "execution_count": 496
  },
  {
   "cell_type": "markdown",
   "source": [
    "Finally, let's calculate the \"Mean Absolute Error (MAE)\", \"Mean Squared Error (MSE)\" and \"Root Mean Squared Error (RMSE)\" metrics and then examine the results."
   ],
   "metadata": {
    "collapsed": false
   },
   "id": "26eaf42b4a349591"
  },
  {
   "cell_type": "code",
   "outputs": [
    {
     "name": "stdout",
     "output_type": "stream",
     "text": [
      "MSE:  0.09114583333333333\n",
      "MAE:  0.09114583333333333\n",
      "RMSE:  0.30190368221228\n"
     ]
    }
   ],
   "source": [
    "from sklearn.metrics import mean_absolute_error, mean_squared_error\n",
    "\n",
    "mse = mean_squared_error(y, y_predict)\n",
    "mae = mean_absolute_error(y, y_predict)\n",
    "rmse = np.sqrt(mse)\n",
    "\n",
    "print(\"MSE: \", mse)\n",
    "print(\"MAE: \", mae)\n",
    "print(\"RMSE: \", rmse)"
   ],
   "metadata": {
    "collapsed": false,
    "ExecuteTime": {
     "end_time": "2024-05-06T12:57:38.903679Z",
     "start_time": "2024-05-06T12:57:38.898990Z"
    }
   },
   "id": "a649491fee753812",
   "execution_count": 497
  }
 ],
 "metadata": {
  "kernelspec": {
   "display_name": "Python 3",
   "language": "python",
   "name": "python3"
  },
  "language_info": {
   "codemirror_mode": {
    "name": "ipython",
    "version": 2
   },
   "file_extension": ".py",
   "mimetype": "text/x-python",
   "name": "python",
   "nbconvert_exporter": "python",
   "pygments_lexer": "ipython2",
   "version": "2.7.6"
  }
 },
 "nbformat": 4,
 "nbformat_minor": 5
}
